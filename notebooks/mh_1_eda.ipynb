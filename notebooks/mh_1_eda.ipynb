{
 "cells": [
  {
   "cell_type": "code",
   "execution_count": 3,
   "metadata": {},
   "outputs": [],
   "source": [
    "import numpy as np\n",
    "import pandas as pd\n",
    "import matplotlib.pyplot as plt\n",
    "import seaborn as sns\n",
    "\n",
    "from pathlib import Path"
   ]
  },
  {
   "cell_type": "code",
   "execution_count": 4,
   "metadata": {},
   "outputs": [
    {
     "name": "stdout",
     "output_type": "stream",
     "text": [
      "Future_Schedule_20220301-20220331.xlsx\n",
      "Realized_Schedule_20210101-20220228.xlsx\n"
     ]
    }
   ],
   "source": [
    "!ls ../data"
   ]
  },
  {
   "cell_type": "code",
   "execution_count": 5,
   "metadata": {},
   "outputs": [],
   "source": [
    "data_path = Path(\"../\", \"data\")\n",
    "realized_schedule = \"Realized_Schedule_20210101-20220228.xlsx\"\n",
    "future_schedule = \"Future_Schedule_20220301-20220331.xlsx\"\n",
    "df_raw_realized = pd.read_excel(Path(data_path, realized_schedule))\n",
    "df_raw_future = pd.read_excel(Path(data_path, future_schedule))"
   ]
  },
  {
   "cell_type": "code",
   "execution_count": 195,
   "metadata": {},
   "outputs": [],
   "source": [
    "import datetime\n",
    "def add_date_features(df_proc, time_col=\"ScheduleTime\"):\n",
    "    \"\"\"Adds one-hot encoded time features from datetime column to df_proc\"\"\"\n",
    "\n",
    "    time_series = df_proc[time_col]\n",
    "    S = time_series.dt\n",
    "\n",
    "    df_time = pd.DataFrame({\"day\":S.day, \"month\":S.month,\n",
    "                            \"is_month_start\":S.is_month_start, \"is_month_end\":S.is_month_end,\n",
    "                            \"is_year_start\":S.is_year_start, \"is_year_end\":S.is_year_end,\n",
    "                            \"is_quarter_start\":S.is_quarter_start, \"is_quarter_end\":S.is_quarter_end\n",
    "                            })\n",
    "\n",
    "    # Year 2021, 2022\n",
    "    df_year = pd.get_dummies(pd.Categorical(S.year)).astype(bool)\n",
    "    df_year.columns = [\"year_\" + str(s) for s in list(df_year.columns.values)]\n",
    "\n",
    "    # Weekday\n",
    "    df_weekday = pd.get_dummies(pd.Categorical(S.dayofweek)).astype(bool)\n",
    "    df_weekday.columns = [\"dayofweek_\" + str(s+1) for s in list(df_weekday.columns.values)]\n",
    "\n",
    "    df_out = pd.concat([df_proc, df_year, df_weekday, df_time], axis=1)\n",
    "    df_out.drop(time_col, axis=1)\n",
    "\n",
    "    return df_out\n",
    "\n",
    "def add_cat_features(df_proc, cat_columns):\n",
    "    \"\"\"Adds one-hot encoded columns from cat_columns to df_proc\"\"\"\n",
    "    \n",
    "    #df_cat = df_raw_realized[[\"Airline\", \"Destination\", \"AircraftType\", \"FlightType\", \"Sector\"]]\n",
    "    #include = [\"Destination\", \"Sector\", \"FlightType\", \"AircraftType\"]\n",
    "\n",
    "    dfs = []\n",
    "    for col in cat_columns:\n",
    "        df = pd.get_dummies(pd.Categorical(df_proc[col]))\n",
    "        df.columns = [col + \"_\" + str(s) for s in list(df.columns.values)]\n",
    "        dfs.append(df)\n",
    "\n",
    "    df_onehot = pd.concat(dfs, axis=1)\n",
    "    df_out = pd.concat([df_proc, df_onehot], axis=1)\n",
    "    df_out = df_out.drop(cat_cols, axis=1)\n",
    "\n",
    "    return df_out\n",
    "\n",
    "def normalize_minmax_cols(df_proc, norm_cols):\n",
    "    \"\"\" Min-max normalizes norm_cols in df_proc \"\"\"\n",
    "\n",
    "    # Normalize\n",
    "    for col in norm_cols:\n",
    "        x = df_proc[col]\n",
    "        x_norm = (x - x.min())\n",
    "        x_norm = x_norm / x_norm.max()\n",
    "\n",
    "        df_proc[col] = x_norm\n",
    "\n",
    "    return df_proc\n",
    "\n",
    "def add_time_delta(df_proc, end_time=\"2022-03-31\", time_col=\"ScheduleTime\"):\n",
    "    \"\"\"Adds column representing time proximity to end date in fractional months\"\"\"\n",
    "    end_time = pd.to_datetime(end_time)\n",
    "\n",
    "    df = df_proc[time_col]\n",
    "    time_delta =  (df - end_time) / np.timedelta64(1, \"M\") * -1\n",
    "    time_delta = 1/time_delta\n",
    "    time_delta = (time_delta - time_delta.min())\n",
    "\n",
    "    df_proc[\"time_delta\"] = time_delta\n",
    "    \n",
    "    return df_proc"
   ]
  },
  {
   "cell_type": "code",
   "execution_count": 169,
   "metadata": {},
   "outputs": [
    {
     "data": {
      "text/plain": [
       "0        0.067082\n",
       "1        0.067107\n",
       "2        0.067116\n",
       "3        0.067124\n",
       "4        0.067130\n",
       "           ...   \n",
       "39444    1.007218\n",
       "39445    1.008145\n",
       "39446    1.008957\n",
       "39447    1.008261\n",
       "39448    1.010935\n",
       "Name: ScheduleTime, Length: 39449, dtype: float64"
      ]
     },
     "execution_count": 169,
     "metadata": {},
     "output_type": "execute_result"
    }
   ],
   "source": [
    "end_time = pd.to_datetime(\"2022-03-31\")\n",
    "df = df_raw_realized[\"ScheduleTime\"].copy()\n",
    "time_delta =  (df - end_time) / np.timedelta64(1, \"M\") * -1\n",
    "time_delta = 1/time_delta"
   ]
  },
  {
   "cell_type": "code",
   "execution_count": 225,
   "metadata": {},
   "outputs": [],
   "source": [
    "df_proc = df_raw_realized.copy()\n",
    "\n",
    "# Add feature how close to ending date range 0-1 (1 is end date)\n",
    "df_proc = add_time_delta(df_proc, end_time=\"2022-03-31\", time_col=\"ScheduleTime\")\n",
    "\n",
    "# Create one-hot encoded time features\n",
    "df_proc = add_date_features(df_proc, \"ScheduleTime\")\n",
    "\n",
    "# One-hot encode other features\n",
    "cat_cols = [\"Destination\", \"Sector\", \"FlightType\", \"AircraftType\"]\n",
    "df_proc = add_cat_features(df_proc, cat_cols)\n",
    "\n",
    "# Exclude columns\n",
    "exclude_cols = [\"Airline\", \"FlightNumber\"]\n",
    "df_proc = df_proc.drop(exclude_cols, axis=1)\n",
    "\n",
    "# Normalize\n",
    "norm_cols = [\"SeatCapacity\"]\n",
    "df_proc = normalize_minmax_cols(df_proc, norm_cols)\n"
   ]
  },
  {
   "cell_type": "code",
   "execution_count": 247,
   "metadata": {},
   "outputs": [],
   "source": [
    "def create_trainval(df_proc, val_months, val_year=\"year_2021\", exclude_cols=[\"ScheduleTime\"], y_col=\"LoadFactor\"):\n",
    "    \"\"\" Creates training and validation datasets by selected months/years \"\"\"\n",
    "\n",
    "    # FloatingPointError\n",
    "    m1 = df_proc[val_year] == True\n",
    "    m2 = df_proc[\"month\"].isin(val_months)\n",
    "    mc = np.logical_and(m1, m2)\n",
    "\n",
    "    val_idxs = df_proc[~mc].index\n",
    "    train_idxs = df_proc[mc].index\n",
    "\n",
    "    # Remove target y column and any other columns to exclude\n",
    "    y_col = \"LoadFactor\"\n",
    "    exclude_cols = [y_col] + exclude_cols\n",
    "    print(f\"Excluding cols in features: {exclude_cols}\")\n",
    "\n",
    "    dataset_X = df_proc.drop(exclude_cols, axis=1)\n",
    "    dataset_y = df_proc[y_col]\n",
    "\n",
    "    X_train, y_train = dataset_X.loc[train_idxs], dataset_y.loc[train_idxs]\n",
    "    X_val, y_val = dataset_X.loc[val_idxs], dataset_y.loc[val_idxs]\n",
    "\n",
    "    return X_train, y_train, X_val, y_val"
   ]
  },
  {
   "cell_type": "code",
   "execution_count": 248,
   "metadata": {},
   "outputs": [
    {
     "name": "stdout",
     "output_type": "stream",
     "text": [
      "Excluding cols in features: ['LoadFactor', 'ScheduleTime']\n"
     ]
    }
   ],
   "source": [
    "val_months = [11]\n",
    "val_year = \"year_2021\"\n",
    "exclude_cols = [\"ScheduleTime\"]\n",
    "\n",
    "X_train, y_train, X_val, y_val = create_trainval(df_proc, val_months, val_year, exclude_cols)"
   ]
  }
 ],
 "metadata": {
  "interpreter": {
   "hash": "43a569c2b82d50a5da9f4769fea21662813cde38f1d5020fe9e9afd932d6ba90"
  },
  "kernelspec": {
   "display_name": "Python 3.7.9 ('py39')",
   "language": "python",
   "name": "python3"
  },
  "language_info": {
   "codemirror_mode": {
    "name": "ipython",
    "version": 3
   },
   "file_extension": ".py",
   "mimetype": "text/x-python",
   "name": "python",
   "nbconvert_exporter": "python",
   "pygments_lexer": "ipython3",
   "version": "3.7.9"
  },
  "orig_nbformat": 4
 },
 "nbformat": 4,
 "nbformat_minor": 2
}
