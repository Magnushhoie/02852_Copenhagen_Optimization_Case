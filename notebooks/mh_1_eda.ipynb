{
 "cells": [
  {
   "cell_type": "code",
   "execution_count": 179,
   "metadata": {},
   "outputs": [
    {
     "name": "stdout",
     "output_type": "stream",
     "text": [
      "The autoreload extension is already loaded. To reload it, use:\n",
      "  %reload_ext autoreload\n"
     ]
    }
   ],
   "source": [
    "import numpy as np\n",
    "import pandas as pd\n",
    "import matplotlib.pyplot as plt\n",
    "import seaborn as sns\n",
    "\n",
    "import sys\n",
    "from pathlib import Path\n",
    "\n",
    "# Find scripts\n",
    "sys.path.insert(0, \"../src/\")\n",
    "from cda_scripts import *\n",
    "\n",
    "np.random.seed(0)\n",
    "\n",
    "%load_ext autoreload\n",
    "%autoreload 2"
   ]
  },
  {
   "cell_type": "markdown",
   "metadata": {},
   "source": [
    "### Dataset loading and pre-processing (see src/cda_scripts.py)"
   ]
  },
  {
   "cell_type": "code",
   "execution_count": 180,
   "metadata": {},
   "outputs": [],
   "source": [
    "# Load data\n",
    "data_path = Path(\"../\", \"data\")\n",
    "df_raw_realized = pd.read_excel(Path(data_path,  \"Realized_Schedule_20210101-20220228.xlsx\"))\n",
    "df_raw_future = pd.read_excel(Path(data_path, \"Future_Schedule_20220301-20220331.xlsx\"))\n",
    "\n",
    "# String conversion\n",
    "cat_cols = [\"FlightNumber\", \"Destination\", \"Airline\", \"Sector\", \"FlightType\", \"AircraftType\"]\n",
    "df_raw_realized[cat_cols] = df_raw_realized[cat_cols].astype(str)\n",
    "df_raw_future[cat_cols] = df_raw_future[cat_cols].astype(str)"
   ]
  },
  {
   "cell_type": "code",
   "execution_count": 181,
   "metadata": {},
   "outputs": [],
   "source": [
    "# Model for handling data\n",
    "class DataModel():\n",
    "    \"\"\"\n",
    "    Class for loading, processing and training ML models on Daylio exported CSV file\n",
    "    \"\"\"\n",
    "    def __init__(self, df_train, df_test, verbose=1):\n",
    "        self.start_time = \"2021-01-01\"\n",
    "        self.time_col = \"ScheduleTime\"\n",
    "\n",
    "        self.df_train = df_train\n",
    "        self.df_test = df_test\n",
    "        \n",
    "        self.df_proc = None\n",
    "\n",
    "        self.verbose = verbose\n",
    "\n",
    "        self.X_train = None\n",
    "        self.y_train = None\n",
    "\n",
    "        self.X_valid = None\n",
    "        self.y_valid = None\n",
    "\n",
    "    def preprocess(self, cat_cols,\n",
    "                start_date=\"2021-05-31\",\n",
    "                year = 0,\n",
    "                month_list = [0],\n",
    "                dataset=\"train\"):\n",
    "\n",
    "        if dataset == \"train\":\n",
    "            df_proc = self.df_train.copy()\n",
    "            print(f\"df_train.shape: {df_train.shape}\")\n",
    "            print(df_proc.columns)\n",
    "        else:\n",
    "            df_proc = self.df_test.copy()\n",
    "            print(f\"df_test.shape: {df_test.shape}\")\n",
    "            print(df_proc.columns)\n",
    "\n",
    "        #exclude_time = \"2021-02-01\"\n",
    "        #df_proc = filter_exclude_time(df_proc, time_col=\"ScheduleTime\", exclude_time=exclude_time)\n",
    "\n",
    "        # Add counts for flight and capacity monthly\n",
    "        df_proc = add_flight_counts(df_proc)\n",
    "\n",
    "        # Add feature how close to ending date range 0-1 (1 is end date)\n",
    "        df_proc = add_time_delta(df_proc, start_time=self.start_time, time_col=self.time_col)\n",
    "\n",
    "        # Create one-hot encoded time features\n",
    "        df_proc = add_date_features(df_proc, self.time_col)\n",
    "\n",
    "        # One-hot encode other features\n",
    "        cat_cols = [\"Destination\", \"Airline\", \"Sector\", \"FlightType\", \"AircraftType\", \"FlightNumber\"]\n",
    "\n",
    "        if dataset == \"train\":\n",
    "            df_proc = map_cat_as_numerical(df_proc, cat_cols, target_col=\"LoadFactor\")\n",
    "        else:\n",
    "            df_proc = map_cat_as_numerical_test(self.df_train, df_proc, cat_cols, target_col=\"LoadFactor\")\n",
    "\n",
    "        # Exclude columns\n",
    "        #exclude_cols = [\"Airline\", \"FlightNumber\"]\n",
    "        #df_proc = remove_columns(df_proc, exclude_cols)\n",
    "\n",
    "        # Normalize\n",
    "        #norm_cols = [\"SeatCapacity\"]\n",
    "        #df_proc = normalize_minmax_cols(df_proc, norm_cols)\n",
    "\n",
    "        print(f\"Filtering out flights before {start_date}\")\n",
    "        df_proc = filter_time_period(df_proc, start_date)\n",
    "\n",
    "        print(f\"removing months from year {year} and months {month_list}\")\n",
    "        df_proc = filter_exclude_months(df_proc, year, month_list)\n",
    "\n",
    "        self.df_proc = df_proc\n",
    "        print(f\"df_proc.shape: {df_proc.shape}\")\n",
    "        print(df_proc.columns)\n",
    "\n",
    "    def get_trainval(self, val_months, val_years):\n",
    "        \"\"\" Return training and validations sets \"\"\"\n",
    "        \n",
    "        X_train, y_train, X_val, y_val = create_trainval(self.df_proc, val_months, val_years)\n",
    "\n",
    "        return X_train, y_train, X_val, y_val\n",
    "\n",
    "    def get_test(self):\n",
    "        \"\"\" Return test set \"\"\"\n",
    "        X_test = create_test(self.df_proc)\n",
    "\n",
    "        return X_test\n"
   ]
  },
  {
   "cell_type": "code",
   "execution_count": 182,
   "metadata": {},
   "outputs": [
    {
     "name": "stdout",
     "output_type": "stream",
     "text": [
      "df_train.shape: (39449, 9)\n",
      "Index(['ScheduleTime', 'Airline', 'FlightNumber', 'Destination',\n",
      "       'AircraftType', 'FlightType', 'Sector', 'SeatCapacity', 'LoadFactor'],\n",
      "      dtype='object')\n",
      "Filtering out flights before 2021-01-01\n",
      "removing months from year 0 and months [0]\n",
      "0 0\n",
      "0\n",
      "df_proc.shape: (39449, 15)\n",
      "Index(['ScheduleTime', 'Airline', 'FlightNumber', 'Destination',\n",
      "       'AircraftType', 'FlightType', 'Sector', 'SeatCapacity', 'LoadFactor',\n",
      "       'FlightCount_week', 't_delta', 't_dayofyear', 't_dayofmonth',\n",
      "       't_dayofweek', 't_timeofday'],\n",
      "      dtype='object')\n",
      "2021, 1, 0.312\n",
      "2021, 2, 0.388\n",
      "2021, 3, 0.419\n",
      "2021, 4, 0.36\n",
      "2021, 5, 0.464\n",
      "2021, 6, 0.544\n",
      "2021, 7, 0.617\n",
      "2021, 8, 0.543\n",
      "2021, 9, 0.575\n",
      "2021, 10, 0.638\n",
      "2021, 11, 0.585\n",
      "2021, 12, 0.499\n",
      "2022, 1, 0.398\n",
      "2022, 2, 0.582\n"
     ]
    }
   ],
   "source": [
    "df_train = df_raw_realized.copy()\n",
    "df_test = df_raw_future.copy()\n",
    "datamodel = DataModel(df_raw, df_test)\n",
    "\n",
    "cat_cols = [\"Destination\", \"Airline\", \"Sector\", \"FlightType\", \"AircraftType\"]\n",
    "datamodel.preprocess(cat_cols, start_date=\"2021-01-01\")\n",
    "\n",
    "for year in [2021, 2022]:\n",
    "    for month in list(range(1, 12+1)):\n",
    "\n",
    "        if year == 2022 and month >= 3:\n",
    "            break\n",
    "\n",
    "        X_train, y_train, X_val, y_val = datamodel.get_trainval([month], [year])\n",
    "        mean = np.round(y_val.mean(), 3)\n",
    "        print(f\"{year}, {month}, {mean}\")"
   ]
  },
  {
   "cell_type": "code",
   "execution_count": 183,
   "metadata": {},
   "outputs": [
    {
     "name": "stdout",
     "output_type": "stream",
     "text": [
      "df_train.shape: (39449, 9)\n",
      "Index(['ScheduleTime', 'Airline', 'FlightNumber', 'Destination',\n",
      "       'AircraftType', 'FlightType', 'Sector', 'SeatCapacity', 'LoadFactor'],\n",
      "      dtype='object')\n",
      "Filtering out flights before 2021-06-01\n",
      "removing months from year 2022 and months [1]\n",
      "2022 1\n",
      "3493\n",
      "df_proc.shape: (31324, 15)\n",
      "Index(['ScheduleTime', 'Airline', 'FlightNumber', 'Destination',\n",
      "       'AircraftType', 'FlightType', 'Sector', 'SeatCapacity', 'LoadFactor',\n",
      "       'FlightCount_week', 't_delta', 't_dayofyear', 't_dayofmonth',\n",
      "       't_dayofweek', 't_timeofday'],\n",
      "      dtype='object')\n"
     ]
    },
    {
     "data": {
      "text/html": [
       "<div>\n",
       "<style scoped>\n",
       "    .dataframe tbody tr th:only-of-type {\n",
       "        vertical-align: middle;\n",
       "    }\n",
       "\n",
       "    .dataframe tbody tr th {\n",
       "        vertical-align: top;\n",
       "    }\n",
       "\n",
       "    .dataframe thead th {\n",
       "        text-align: right;\n",
       "    }\n",
       "</style>\n",
       "<table border=\"1\" class=\"dataframe\">\n",
       "  <thead>\n",
       "    <tr style=\"text-align: right;\">\n",
       "      <th></th>\n",
       "      <th>Airline</th>\n",
       "      <th>FlightNumber</th>\n",
       "      <th>Destination</th>\n",
       "      <th>AircraftType</th>\n",
       "      <th>FlightType</th>\n",
       "      <th>Sector</th>\n",
       "      <th>SeatCapacity</th>\n",
       "      <th>FlightCount_week</th>\n",
       "      <th>t_delta</th>\n",
       "      <th>t_dayofyear</th>\n",
       "      <th>t_dayofmonth</th>\n",
       "      <th>t_dayofweek</th>\n",
       "      <th>t_timeofday</th>\n",
       "    </tr>\n",
       "  </thead>\n",
       "  <tbody>\n",
       "    <tr>\n",
       "      <th>3802</th>\n",
       "      <td>-0.288637</td>\n",
       "      <td>0.084277</td>\n",
       "      <td>0.154426</td>\n",
       "      <td>-0.083220</td>\n",
       "      <td>-0.247793</td>\n",
       "      <td>0.017179</td>\n",
       "      <td>180</td>\n",
       "      <td>4.0</td>\n",
       "      <td>4.960175</td>\n",
       "      <td>152</td>\n",
       "      <td>1</td>\n",
       "      <td>1</td>\n",
       "      <td>5.416667</td>\n",
       "    </tr>\n",
       "    <tr>\n",
       "      <th>3803</th>\n",
       "      <td>0.201203</td>\n",
       "      <td>0.178458</td>\n",
       "      <td>0.163177</td>\n",
       "      <td>0.165627</td>\n",
       "      <td>-0.247793</td>\n",
       "      <td>0.017179</td>\n",
       "      <td>131</td>\n",
       "      <td>3.0</td>\n",
       "      <td>4.962228</td>\n",
       "      <td>152</td>\n",
       "      <td>1</td>\n",
       "      <td>1</td>\n",
       "      <td>6.916667</td>\n",
       "    </tr>\n",
       "    <tr>\n",
       "      <th>3804</th>\n",
       "      <td>0.358638</td>\n",
       "      <td>0.176089</td>\n",
       "      <td>0.154426</td>\n",
       "      <td>0.185240</td>\n",
       "      <td>0.247998</td>\n",
       "      <td>0.017179</td>\n",
       "      <td>212</td>\n",
       "      <td>6.0</td>\n",
       "      <td>4.962342</td>\n",
       "      <td>152</td>\n",
       "      <td>1</td>\n",
       "      <td>1</td>\n",
       "      <td>7.000000</td>\n",
       "    </tr>\n",
       "    <tr>\n",
       "      <th>3805</th>\n",
       "      <td>0.029052</td>\n",
       "      <td>-0.116025</td>\n",
       "      <td>0.034503</td>\n",
       "      <td>-0.112921</td>\n",
       "      <td>-0.247793</td>\n",
       "      <td>-0.002552</td>\n",
       "      <td>72</td>\n",
       "      <td>4.0</td>\n",
       "      <td>4.963939</td>\n",
       "      <td>152</td>\n",
       "      <td>1</td>\n",
       "      <td>1</td>\n",
       "      <td>8.166667</td>\n",
       "    </tr>\n",
       "    <tr>\n",
       "      <th>3806</th>\n",
       "      <td>-0.288637</td>\n",
       "      <td>-0.125579</td>\n",
       "      <td>0.035640</td>\n",
       "      <td>-0.083220</td>\n",
       "      <td>-0.247793</td>\n",
       "      <td>0.017179</td>\n",
       "      <td>180</td>\n",
       "      <td>3.0</td>\n",
       "      <td>4.964738</td>\n",
       "      <td>152</td>\n",
       "      <td>1</td>\n",
       "      <td>1</td>\n",
       "      <td>8.750000</td>\n",
       "    </tr>\n",
       "    <tr>\n",
       "      <th>...</th>\n",
       "      <td>...</td>\n",
       "      <td>...</td>\n",
       "      <td>...</td>\n",
       "      <td>...</td>\n",
       "      <td>...</td>\n",
       "      <td>...</td>\n",
       "      <td>...</td>\n",
       "      <td>...</td>\n",
       "      <td>...</td>\n",
       "      <td>...</td>\n",
       "      <td>...</td>\n",
       "      <td>...</td>\n",
       "      <td>...</td>\n",
       "    </tr>\n",
       "    <tr>\n",
       "      <th>39444</th>\n",
       "      <td>0.167526</td>\n",
       "      <td>-0.155540</td>\n",
       "      <td>0.106684</td>\n",
       "      <td>0.111669</td>\n",
       "      <td>-0.247793</td>\n",
       "      <td>0.017179</td>\n",
       "      <td>144</td>\n",
       "      <td>2.0</td>\n",
       "      <td>13.914956</td>\n",
       "      <td>59</td>\n",
       "      <td>28</td>\n",
       "      <td>0</td>\n",
       "      <td>18.750000</td>\n",
       "    </tr>\n",
       "    <tr>\n",
       "      <th>39445</th>\n",
       "      <td>0.158585</td>\n",
       "      <td>0.008592</td>\n",
       "      <td>0.097443</td>\n",
       "      <td>0.111669</td>\n",
       "      <td>-0.247793</td>\n",
       "      <td>0.017179</td>\n",
       "      <td>156</td>\n",
       "      <td>1.0</td>\n",
       "      <td>13.915869</td>\n",
       "      <td>59</td>\n",
       "      <td>28</td>\n",
       "      <td>0</td>\n",
       "      <td>19.416667</td>\n",
       "    </tr>\n",
       "    <tr>\n",
       "      <th>39446</th>\n",
       "      <td>0.167526</td>\n",
       "      <td>0.142598</td>\n",
       "      <td>0.190955</td>\n",
       "      <td>0.148225</td>\n",
       "      <td>-0.247793</td>\n",
       "      <td>-0.002552</td>\n",
       "      <td>98</td>\n",
       "      <td>1.0</td>\n",
       "      <td>13.916667</td>\n",
       "      <td>59</td>\n",
       "      <td>28</td>\n",
       "      <td>0</td>\n",
       "      <td>20.000000</td>\n",
       "    </tr>\n",
       "    <tr>\n",
       "      <th>39447</th>\n",
       "      <td>0.158585</td>\n",
       "      <td>0.191842</td>\n",
       "      <td>0.185986</td>\n",
       "      <td>-0.083220</td>\n",
       "      <td>-0.247793</td>\n",
       "      <td>-0.002552</td>\n",
       "      <td>186</td>\n",
       "      <td>1.0</td>\n",
       "      <td>13.915983</td>\n",
       "      <td>59</td>\n",
       "      <td>28</td>\n",
       "      <td>0</td>\n",
       "      <td>19.500000</td>\n",
       "    </tr>\n",
       "    <tr>\n",
       "      <th>39448</th>\n",
       "      <td>0.158585</td>\n",
       "      <td>0.103099</td>\n",
       "      <td>0.184299</td>\n",
       "      <td>0.111669</td>\n",
       "      <td>-0.247793</td>\n",
       "      <td>0.017179</td>\n",
       "      <td>156</td>\n",
       "      <td>4.0</td>\n",
       "      <td>13.918607</td>\n",
       "      <td>59</td>\n",
       "      <td>28</td>\n",
       "      <td>0</td>\n",
       "      <td>21.416667</td>\n",
       "    </tr>\n",
       "  </tbody>\n",
       "</table>\n",
       "<p>26906 rows × 13 columns</p>\n",
       "</div>"
      ],
      "text/plain": [
       "        Airline  FlightNumber  Destination  AircraftType  FlightType  \\\n",
       "3802  -0.288637      0.084277     0.154426     -0.083220   -0.247793   \n",
       "3803   0.201203      0.178458     0.163177      0.165627   -0.247793   \n",
       "3804   0.358638      0.176089     0.154426      0.185240    0.247998   \n",
       "3805   0.029052     -0.116025     0.034503     -0.112921   -0.247793   \n",
       "3806  -0.288637     -0.125579     0.035640     -0.083220   -0.247793   \n",
       "...         ...           ...          ...           ...         ...   \n",
       "39444  0.167526     -0.155540     0.106684      0.111669   -0.247793   \n",
       "39445  0.158585      0.008592     0.097443      0.111669   -0.247793   \n",
       "39446  0.167526      0.142598     0.190955      0.148225   -0.247793   \n",
       "39447  0.158585      0.191842     0.185986     -0.083220   -0.247793   \n",
       "39448  0.158585      0.103099     0.184299      0.111669   -0.247793   \n",
       "\n",
       "         Sector  SeatCapacity  FlightCount_week    t_delta  t_dayofyear  \\\n",
       "3802   0.017179           180               4.0   4.960175          152   \n",
       "3803   0.017179           131               3.0   4.962228          152   \n",
       "3804   0.017179           212               6.0   4.962342          152   \n",
       "3805  -0.002552            72               4.0   4.963939          152   \n",
       "3806   0.017179           180               3.0   4.964738          152   \n",
       "...         ...           ...               ...        ...          ...   \n",
       "39444  0.017179           144               2.0  13.914956           59   \n",
       "39445  0.017179           156               1.0  13.915869           59   \n",
       "39446 -0.002552            98               1.0  13.916667           59   \n",
       "39447 -0.002552           186               1.0  13.915983           59   \n",
       "39448  0.017179           156               4.0  13.918607           59   \n",
       "\n",
       "       t_dayofmonth  t_dayofweek  t_timeofday  \n",
       "3802              1            1     5.416667  \n",
       "3803              1            1     6.916667  \n",
       "3804              1            1     7.000000  \n",
       "3805              1            1     8.166667  \n",
       "3806              1            1     8.750000  \n",
       "...             ...          ...          ...  \n",
       "39444            28            0    18.750000  \n",
       "39445            28            0    19.416667  \n",
       "39446            28            0    20.000000  \n",
       "39447            28            0    19.500000  \n",
       "39448            28            0    21.416667  \n",
       "\n",
       "[26906 rows x 13 columns]"
      ]
     },
     "execution_count": 183,
     "metadata": {},
     "output_type": "execute_result"
    }
   ],
   "source": [
    "cat_cols = [\"Destination\", \"Airline\", \"Sector\", \"FlightType\", \"AircraftType\"]\n",
    "datamodel.preprocess(cat_cols, start_date=\"2021-06-01\",\n",
    "                year=2022,\n",
    "                month_list=[1])\n",
    "\n",
    "val_months = [11]\n",
    "val_years = [2021]\n",
    "X_train, y_train, X_val, y_val = datamodel.get_trainval(val_months, val_years)\n",
    "X_train"
   ]
  },
  {
   "cell_type": "markdown",
   "metadata": {},
   "source": [
    "### Training Random Forest model on Feb 22 validation month"
   ]
  },
  {
   "cell_type": "code",
   "execution_count": 184,
   "metadata": {},
   "outputs": [
    {
     "name": "stdout",
     "output_type": "stream",
     "text": [
      "RF\n",
      "Train: MAE: 0.039, MSE: 0.003, Pearson 0.985, Acc: 0.961\n",
      "Valid: MAE: 0.17, MSE: 0.043, Pearson 0.741, Acc: 0.83\n"
     ]
    },
    {
     "data": {
      "text/plain": [
       "<matplotlib.legend.Legend at 0x7fc54a5889d0>"
      ]
     },
     "execution_count": 184,
     "metadata": {},
     "output_type": "execute_result"
    },
    {
     "data": {
      "image/png": "[encoded data removed]",
      "text/plain": [
       "<Figure size 432x288 with 1 Axes>"
      ]
     },
     "metadata": {
      "needs_background": "light"
     },
     "output_type": "display_data"
    }
   ],
   "source": [
    "val_months = [2]\n",
    "val_year = [2022]\n",
    "X_train, y_train, X_val, y_val = datamodel.get_trainval(val_months, val_year)\n",
    "\n",
    "# Params\n",
    "from sklearn.linear_model import Lasso\n",
    "from sklearn.ensemble import RandomForestRegressor\n",
    "\n",
    "print(\"RF\")\n",
    "f = 0.50\n",
    "max_features = int(len(X_train.columns) * f)\n",
    "model = RandomForestRegressor(max_features=max_features, random_state=0)\n",
    "model, acc_train, acc_val, y_pred_val = fit_model(model, X_train, y_train, X_val, y_val)\n",
    "\n",
    "sns.kdeplot(y_pred_val)\n",
    "plt.title(f\"Predicted value distribution for years {val_years} month {val_months}\")\n",
    "plt.legend(val_months)"
   ]
  },
  {
   "cell_type": "markdown",
   "metadata": {},
   "source": [
    "### Random Forest feature importance"
   ]
  },
  {
   "cell_type": "code",
   "execution_count": 185,
   "metadata": {},
   "outputs": [
    {
     "name": "stderr",
     "output_type": "stream",
     "text": [
      "/Users/maghoi/opt/anaconda3/envs/py39/lib/python3.7/site-packages/ipykernel_launcher.py:8: DeprecationWarning: The default dtype for empty Series will be 'object' instead of 'float64' in a future version. Specify a dtype explicitly to silence this warning.\n",
      "  \n"
     ]
    },
    {
     "data": {
      "image/png": "[encoded data removed]",
      "text/plain": [
       "<Figure size 432x288 with 1 Axes>"
      ]
     },
     "metadata": {
      "needs_background": "light"
     },
     "output_type": "display_data"
    }
   ],
   "source": [
    "coef = get_coef(model, X_train)\n",
    "\n",
    "features = [\"FlightCount\", \"MonthCapacity\",\"t_delta\", \"FlightNumber\", \"SeatCapacity\",\n",
    "            \"t_\", \"Aircraft_\", \"Destination_\", \"Airline_\",\n",
    "            \"FlightType_\", \"Sector_\", \"SectorCount\"]\n",
    "\n",
    "features = X_train.columns\n",
    "S = pd.Series(index=features)\n",
    "for f in features:\n",
    "    m = coef.index.str.contains(f)\n",
    "    imp = np.round(coef[m].sort_values()[::-1].sum(), 3)\n",
    "    S.loc[f] = imp\n",
    "\n",
    "S_importance = S.sort_values()[::-1]\n",
    "\n",
    "plt.figure()\n",
    "sns.barplot(x=S_importance.values, y=S_importance.index)\n",
    "plt.title(\"Relative importance of features\")\n",
    "plt.xlabel(\"Feature importance\")\n",
    "\n",
    "plt.tight_layout()\n",
    "#plt.savefig(\"../figures/feature_importance.pdf\")\n"
   ]
  },
  {
   "cell_type": "markdown",
   "metadata": {},
   "source": [
    "### Leave-one-month-out cross-validation from Jan 21 to Feb 22"
   ]
  },
  {
   "cell_type": "code",
   "execution_count": 186,
   "metadata": {},
   "outputs": [
    {
     "name": "stdout",
     "output_type": "stream",
     "text": [
      "Year 2021, month 1\n",
      "Year 2021, month 2\n",
      "Year 2021, month 3\n",
      "Year 2021, month 4\n",
      "Year 2021, month 5\n",
      "Year 2021, month 6\n",
      "Train: MAE: 0.04, MSE: 0.003, Pearson 0.985, Acc: 0.96\n",
      "Valid: MAE: 0.148, MSE: 0.034, Pearson 0.771, Acc: 0.852\n",
      "Year 2021, month 7\n",
      "Train: MAE: 0.04, MSE: 0.003, Pearson 0.984, Acc: 0.96\n",
      "Valid: MAE: 0.153, MSE: 0.037, Pearson 0.773, Acc: 0.847\n",
      "Year 2021, month 8\n",
      "Train: MAE: 0.04, MSE: 0.003, Pearson 0.984, Acc: 0.96\n",
      "Valid: MAE: 0.128, MSE: 0.028, Pearson 0.78, Acc: 0.872\n",
      "Year 2021, month 9\n",
      "Train: MAE: 0.04, MSE: 0.003, Pearson 0.984, Acc: 0.96\n",
      "Valid: MAE: 0.111, MSE: 0.021, Pearson 0.83, Acc: 0.889\n",
      "Year 2021, month 10\n",
      "Train: MAE: 0.039, MSE: 0.003, Pearson 0.985, Acc: 0.961\n",
      "Valid: MAE: 0.139, MSE: 0.032, Pearson 0.762, Acc: 0.861\n",
      "Year 2021, month 11\n",
      "Train: MAE: 0.04, MSE: 0.003, Pearson 0.985, Acc: 0.96\n",
      "Valid: MAE: 0.129, MSE: 0.026, Pearson 0.784, Acc: 0.871\n",
      "Year 2021, month 12\n",
      "Train: MAE: 0.039, MSE: 0.003, Pearson 0.985, Acc: 0.961\n",
      "Valid: MAE: 0.157, MSE: 0.039, Pearson 0.674, Acc: 0.843\n",
      "Year 2022, month 1\n",
      "Year 2022, month 2\n",
      "Train: MAE: 0.039, MSE: 0.003, Pearson 0.985, Acc: 0.961\n",
      "Valid: MAE: 0.17, MSE: 0.043, Pearson 0.741, Acc: 0.83\n"
     ]
    }
   ],
   "source": [
    "# Leave one month out\n",
    "list_acc_train = []\n",
    "list_acc_val = []\n",
    "list_y_pred_val = []\n",
    "list_y_true_val = []\n",
    "\n",
    "for year in [2021, 2022]:\n",
    "    for month in list(range(1, 12+1)):\n",
    "\n",
    "        if year == 2022 and month >= 3:\n",
    "            break\n",
    "\n",
    "        print(f\"Year {year}, month {month}\")\n",
    "        X_train, y_train, X_val, y_val = datamodel.get_trainval([month], [year])\n",
    "\n",
    "        if len(X_val) <= 0:\n",
    "            continue\n",
    "\n",
    "        f = 0.50\n",
    "        max_features = int(len(X_train.columns) * f)\n",
    "        model = RandomForestRegressor(max_features=max_features, random_state=0)\n",
    "        model, acc_train, acc_val, y_pred_val = fit_model(model, X_train, y_train, X_val, y_val)\n",
    "\n",
    "        list_acc_train.append(acc_train)\n",
    "        list_acc_val.append(acc_val)\n",
    "        list_y_pred_val.append(y_pred_val)\n",
    "        list_y_true_val.append(y_val)"
   ]
  },
  {
   "cell_type": "code",
   "execution_count": 187,
   "metadata": {},
   "outputs": [
    {
     "data": {
      "image/png": "[encoded data removed]",
      "text/plain": [
       "<Figure size 432x288 with 1 Axes>"
      ]
     },
     "metadata": {
      "needs_background": "light"
     },
     "output_type": "display_data"
    }
   ],
   "source": [
    "values = list_y_true_val\n",
    "cmap = sns.color_palette(\"coolwarm\", n_colors=len(values))\n",
    "\n",
    "for i, preds in enumerate(values):\n",
    "    sns.kdeplot(preds, color=cmap[i], bw_adjust=1,\n",
    "                ).set(xlim=(-0.2, 1.2))\n",
    "\n",
    "labels = list(range(1, len(values) +1 ))\n",
    "plt.legend(labels)\n",
    "plt.title(f\"True target value distributions from Jan 21 to Feb 22\")\n",
    "plt.savefig(\"../figures/LOMO_true4.pdf\")"
   ]
  },
  {
   "cell_type": "code",
   "execution_count": 188,
   "metadata": {},
   "outputs": [
    {
     "data": {
      "image/png": "[encoded data removed]",
      "text/plain": [
       "<Figure size 432x288 with 1 Axes>"
      ]
     },
     "metadata": {
      "needs_background": "light"
     },
     "output_type": "display_data"
    }
   ],
   "source": [
    "values = list_y_pred_val\n",
    "cmap = sns.color_palette(\"coolwarm\", n_colors=len(values))\n",
    "\n",
    "for i, preds in enumerate(values):\n",
    "    sns.kdeplot(preds, color=cmap[i], bw_adjust=1,\n",
    "                ).set(xlim=(-0.1, 1.1))\n",
    "\n",
    "labels = list(range(1, len(values) +1 ))\n",
    "plt.legend(labels)\n",
    "plt.title(f\"Predicted target value distributions from Jan 21 to Feb 22\")\n",
    "plt.savefig(\"../figures/LOMO_pred4.pdf\")"
   ]
  },
  {
   "cell_type": "markdown",
   "metadata": {},
   "source": [
    "### Estimate of mean accuracy and March 2022 expected accuracy"
   ]
  },
  {
   "cell_type": "code",
   "execution_count": 190,
   "metadata": {},
   "outputs": [
    {
     "ename": "SyntaxError",
     "evalue": "invalid syntax (2886447627.py, line 4)",
     "output_type": "error",
     "traceback": [
      "\u001b[0;36m  File \u001b[0;32m\"/var/folders/cp/3z67243566q0r3wq706xp04w0000gp/T/ipykernel_29599/2886447627.py\"\u001b[0;36m, line \u001b[0;32m4\u001b[0m\n\u001b[0;31m    \"Month\": len(list_acc_val))\u001b[0m\n\u001b[0m                              ^\u001b[0m\n\u001b[0;31mSyntaxError\u001b[0m\u001b[0;31m:\u001b[0m invalid syntax\n"
     ]
    }
   ],
   "source": [
    "df_plot = pd.DataFrame({\n",
    "                        \"Train_acc\": list_acc_train,\n",
    "                        \"Val_acc\": list_acc_val,\n",
    "                        \"Month\": len(list_acc_val))\n",
    "                        })"
   ]
  },
  {
   "cell_type": "code",
   "execution_count": null,
   "metadata": {},
   "outputs": [],
   "source": [
    "len(list_acc_val)"
   ]
  },
  {
   "cell_type": "code",
   "execution_count": null,
   "metadata": {},
   "outputs": [],
   "source": [
    "df_plot = pd.DataFrame({\n",
    "                        \"Train_acc\": list_acc_train,\n",
    "                        \"Val_acc\": list_acc_val,\n",
    "                        \"Month\": list(range(1, 12+1)) + list(range(1, 2+1)),\n",
    "                        \"Year\": [\"2021\"]*12 + [\"2022\"]*2\n",
    "                        })\n",
    "\n",
    "#months = [\"01\", \"02\", \"03\", \"04\", \"05\", \"06\", \"07\", \"08\", \"09\", \"10\", \"11\", \"12\"]\n",
    "#years = [\"2021\"]*12 + [\"2022\"]*2\n",
    "\n",
    "months_21 = [\"06\", \"07\", \"08\", \"09\", \"10\", \"11\", \"12\"]\n",
    "months_22 = [\"01\", \"02\"]\n",
    "years = [\"2021\"]*6 + [\"2022\"]*2\n",
    "\n",
    "l1 = [f\"{y}.{m}\" for m, y in zip(months_21, [\"2021\"]*6)]\n",
    "l2 = [f\"{y}.{m}\" for m, y in zip(months_22, [\"2022\"]*2)]\n",
    "time = pd.to_datetime(l1+l2)\n",
    "df_plot[\"Time\"] = time\n",
    "\n",
    "ax = sns.lineplot(x=df_plot[\"Time\"], y=df_plot[\"Val_acc\"])\n",
    "sns.scatterplot(x=df_plot[\"Time\"], y=df_plot[\"Val_acc\"])\n",
    "\n",
    "plt.ylabel(\"1 - MAE for month\")\n",
    "plt.xlabel(\"Month\")\n",
    "\n",
    "mean_acc = df_plot.iloc[:][\"Val_acc\"].mean().round(3)\n",
    "estimated_acc = df_plot.iloc[-3:][\"Val_acc\"].mean().round(3)\n",
    "print(f\"Estimated accuracy for March 2022: {estimated_acc}\")\n",
    "\n",
    "title = \"Leave-one-month-out validation set accuracy\"\n",
    "subtitle = f\"\\nAverage {mean_acc}, March estimate {estimated_acc}\"\n",
    "plt.title(title+subtitle)\n",
    "\n",
    "plt.axhline(mean_acc)\n",
    "import matplotlib.dates as mdates\n",
    "ax.annotate(f'Mean accuracy {mean_acc}',\n",
    "            (mdates.date2num(df_plot[\"Time\"].iloc[-7]),\n",
    "            df_plot[\"Val_acc\"].iloc[-6]), xytext=(5, 5), \n",
    "            textcoords='offset points', color=\"darkblue\")\n",
    "\n",
    "sns.scatterplot(x=df_plot[\"Time\"].iloc[-3:], y=df_plot[\"Val_acc\"].iloc[-3:],\n",
    "                color=\"red\")\n",
    "plt.axhline(estimated_acc, color=\"red\")\n",
    "\n",
    "ax.annotate(f'March accuracy estimate {estimated_acc}',\n",
    "            (mdates.date2num(df_plot[\"Time\"].iloc[-8]),\n",
    "            df_plot[\"Val_acc\"].iloc[-1]), xytext=(5, 5), \n",
    "            textcoords='offset points', color=\"red\")\n",
    "\n",
    "plt.tight_layout()\n",
    "plt.savefig(\"../figures/LOMO4.pdf\")"
   ]
  },
  {
   "cell_type": "markdown",
   "metadata": {},
   "source": [
    "### Predict test set for March 22"
   ]
  },
  {
   "cell_type": "code",
   "execution_count": 177,
   "metadata": {},
   "outputs": [
    {
     "name": "stdout",
     "output_type": "stream",
     "text": [
      "df_train.shape: (39449, 9)\n",
      "Index(['ScheduleTime', 'Airline', 'FlightNumber', 'Destination',\n",
      "       'AircraftType', 'FlightType', 'Sector', 'SeatCapacity', 'LoadFactor'],\n",
      "      dtype='object')\n",
      "Filtering out flights before 2021-05-31\n",
      "removing months from year 2022 and months [1]\n",
      "2022 1\n",
      "3493\n",
      "df_proc.shape: (31379, 15)\n",
      "Index(['ScheduleTime', 'Airline', 'FlightNumber', 'Destination',\n",
      "       'AircraftType', 'FlightType', 'Sector', 'SeatCapacity', 'LoadFactor',\n",
      "       'FlightCount_week', 't_delta', 't_dayofyear', 't_dayofmonth',\n",
      "       't_dayofweek', 't_timeofday'],\n",
      "      dtype='object')\n",
      "Retraining model with all training data and testing on all training data\n",
      "Train: MAE: 0.04, MSE: 0.003, Pearson 0.985, Acc: 0.96\n",
      "Valid: MAE: 0.04, MSE: 0.003, Pearson 0.985, Acc: 0.96\n"
     ]
    }
   ],
   "source": [
    "# Train again\n",
    "df_train = df_raw_realized.copy()\n",
    "df_test = df_raw_future.copy()\n",
    "\n",
    "datamodel_train = DataModel(df_train, df_test)\n",
    "cat_cols = [\"Destination\", \"Airline\", \"Sector\", \"FlightType\", \"AircraftType\"]\n",
    "datamodel_train.preprocess(cat_cols, month_list=[1], year=2022, dataset=\"train\")\n",
    "\n",
    "X_train, y_train, X_val, y_val = datamodel_train.get_trainval(val_months=[999], val_years=[999])\n",
    "\n",
    "print(\"Retraining model with all training data and testing on all training data\")\n",
    "f = 0.50\n",
    "max_features = int(len(X_train.columns) * f)\n",
    "model = RandomForestRegressor(max_features=max_features, random_state=0)\n",
    "model, acc_train, acc_val, y_pred_val = fit_model(model, X_train, y_train, X_train, y_train)"
   ]
  },
  {
   "cell_type": "code",
   "execution_count": null,
   "metadata": {},
   "outputs": [],
   "source": [
    "datamodel_test = DataModel(df_train, df_test)\n",
    "cat_cols = [\"Destination\", \"Airline\", \"Sector\", \"FlightType\", \"AircraftType\"]\n",
    "datamodel_test.preprocess(cat_cols, dataset=\"test\")\n",
    "\n",
    "X_test = datamodel_test.get_test()"
   ]
  },
  {
   "cell_type": "code",
   "execution_count": null,
   "metadata": {},
   "outputs": [],
   "source": [
    "# Handle missing values by fitting with mean rank-value from X_train\n",
    "means = X_train.mean()\n",
    "y_hat_test = model.predict(X_test.fillna(means).values)\n",
    "\n",
    "# Compare with validation\n",
    "y_hat_train = model.predict(X_train.values)\n",
    "\n",
    "# Plot distribution\n",
    "sns.kdeplot(y_hat_train)\n",
    "sns.kdeplot(y_hat_test)\n",
    "plt.legend([\"Train\", \"Test\"])"
   ]
  },
  {
   "cell_type": "code",
   "execution_count": null,
   "metadata": {},
   "outputs": [],
   "source": [
    "values = list_y_pred_val\n",
    "cmap = sns.color_palette(\"coolwarm\", n_colors=len(values)+2)\n",
    "\n",
    "for i, preds in enumerate(values):\n",
    "    sns.kdeplot(preds, color=cmap[i], bw_adjust=1,\n",
    "                ).set(xlim=(-0.1, 1.1))\n",
    "\n",
    "sns.kdeplot(y_hat_test, color=cmap[-1], bw_adjust=1,\n",
    "            ).set(xlim=(-0.1, 1.1))\n",
    "\n",
    "labels = list(range(8, len(values) + 9 ))\n",
    "plt.legend(labels)\n",
    "plt.title(\"March test set predictions\\nw/ training data from Aug 21\")\n",
    "plt.savefig(\"../figures/LOMO_with_march4.pdf\")"
   ]
  },
  {
   "cell_type": "code",
   "execution_count": null,
   "metadata": {},
   "outputs": [],
   "source": [
    "df_proc_future = df_raw_future.copy()\n",
    "df_proc_future[\"LoadFactor\"] = y_hat_test"
   ]
  },
  {
   "cell_type": "code",
   "execution_count": null,
   "metadata": {},
   "outputs": [],
   "source": [
    "df_proc_future.to_excel(\"../march_predictions4.xlsx\")"
   ]
  },
  {
   "cell_type": "code",
   "execution_count": null,
   "metadata": {},
   "outputs": [],
   "source": []
  }
 ],
 "metadata": {
  "interpreter": {
   "hash": "43a569c2b82d50a5da9f4769fea21662813cde38f1d5020fe9e9afd932d6ba90"
  },
  "kernelspec": {
   "display_name": "Python 3.7.9 ('py39')",
   "language": "python",
   "name": "python3"
  },
  "language_info": {
   "codemirror_mode": {
    "name": "ipython",
    "version": 3
   },
   "file_extension": ".py",
   "mimetype": "text/x-python",
   "name": "python",
   "nbconvert_exporter": "python",
   "pygments_lexer": "ipython3",
   "version": "3.7.9"
  },
  "orig_nbformat": 4
 },
 "nbformat": 4,
 "nbformat_minor": 2
}
